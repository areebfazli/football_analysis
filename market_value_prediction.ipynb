{
 "cells": [
  {
   "cell_type": "markdown",
   "metadata": {},
   "source": [
    "# Predicting Player Market Value with Linear Regression"
   ]
  },
  {
   "cell_type": "markdown",
   "metadata": {},
   "source": [
    "## 1. Load the Dataset"
   ]
  },
  {
   "cell_type": "code",
   "execution_count": 240,
   "metadata": {},
   "outputs": [
    {
     "data": {
      "text/html": [
       "<div>\n",
       "<style scoped>\n",
       "    .dataframe tbody tr th:only-of-type {\n",
       "        vertical-align: middle;\n",
       "    }\n",
       "\n",
       "    .dataframe tbody tr th {\n",
       "        vertical-align: top;\n",
       "    }\n",
       "\n",
       "    .dataframe thead th {\n",
       "        text-align: right;\n",
       "    }\n",
       "</style>\n",
       "<table border=\"1\" class=\"dataframe\">\n",
       "  <thead>\n",
       "    <tr style=\"text-align: right;\">\n",
       "      <th></th>\n",
       "      <th>player_id</th>\n",
       "      <th>market_value_in_eur</th>\n",
       "      <th>position</th>\n",
       "      <th>foot</th>\n",
       "      <th>height_in_cm</th>\n",
       "      <th>age</th>\n",
       "      <th>total_goals</th>\n",
       "      <th>total_assists</th>\n",
       "      <th>total_minutes_played</th>\n",
       "    </tr>\n",
       "  </thead>\n",
       "  <tbody>\n",
       "    <tr>\n",
       "      <th>0</th>\n",
       "      <td>10</td>\n",
       "      <td>1000000.0</td>\n",
       "      <td>4</td>\n",
       "      <td>0</td>\n",
       "      <td>184.0</td>\n",
       "      <td>38</td>\n",
       "      <td>48.0</td>\n",
       "      <td>25.0</td>\n",
       "      <td>8808.0</td>\n",
       "    </tr>\n",
       "    <tr>\n",
       "      <th>1</th>\n",
       "      <td>26</td>\n",
       "      <td>750000.0</td>\n",
       "      <td>1</td>\n",
       "      <td>1</td>\n",
       "      <td>190.0</td>\n",
       "      <td>38</td>\n",
       "      <td>0.0</td>\n",
       "      <td>0.0</td>\n",
       "      <td>13508.0</td>\n",
       "    </tr>\n",
       "    <tr>\n",
       "      <th>2</th>\n",
       "      <td>65</td>\n",
       "      <td>1000000.0</td>\n",
       "      <td>4</td>\n",
       "      <td>3</td>\n",
       "      <td>183.0</td>\n",
       "      <td>35</td>\n",
       "      <td>38.0</td>\n",
       "      <td>13.0</td>\n",
       "      <td>8788.0</td>\n",
       "    </tr>\n",
       "    <tr>\n",
       "      <th>3</th>\n",
       "      <td>77</td>\n",
       "      <td>200000.0</td>\n",
       "      <td>2</td>\n",
       "      <td>3</td>\n",
       "      <td>183.0</td>\n",
       "      <td>34</td>\n",
       "      <td>0.0</td>\n",
       "      <td>0.0</td>\n",
       "      <td>307.0</td>\n",
       "    </tr>\n",
       "    <tr>\n",
       "      <th>4</th>\n",
       "      <td>80</td>\n",
       "      <td>100000.0</td>\n",
       "      <td>1</td>\n",
       "      <td>0</td>\n",
       "      <td>194.0</td>\n",
       "      <td>36</td>\n",
       "      <td>0.0</td>\n",
       "      <td>0.0</td>\n",
       "      <td>1080.0</td>\n",
       "    </tr>\n",
       "  </tbody>\n",
       "</table>\n",
       "</div>"
      ],
      "text/plain": [
       "   player_id  market_value_in_eur  position  foot  height_in_cm  age  \\\n",
       "0         10            1000000.0         4     0         184.0   38   \n",
       "1         26             750000.0         1     1         190.0   38   \n",
       "2         65            1000000.0         4     3         183.0   35   \n",
       "3         77             200000.0         2     3         183.0   34   \n",
       "4         80             100000.0         1     0         194.0   36   \n",
       "\n",
       "   total_goals  total_assists  total_minutes_played  \n",
       "0         48.0           25.0                8808.0  \n",
       "1          0.0            0.0               13508.0  \n",
       "2         38.0           13.0                8788.0  \n",
       "3          0.0            0.0                 307.0  \n",
       "4          0.0            0.0                1080.0  "
      ]
     },
     "execution_count": 240,
     "metadata": {},
     "output_type": "execute_result"
    }
   ],
   "source": [
    "import pandas as pd\n",
    "\n",
    "df = pd.read_csv('player_data_final.csv')\n",
    "# df = pd.read_csv('player_market_value_data.csv')\n",
    "df.head()"
   ]
  },
  {
   "cell_type": "markdown",
   "metadata": {},
   "source": [
    "## 2. Data Preprocessing"
   ]
  },
  {
   "cell_type": "code",
   "execution_count": 241,
   "metadata": {},
   "outputs": [
    {
     "data": {
      "text/html": [
       "<div>\n",
       "<style scoped>\n",
       "    .dataframe tbody tr th:only-of-type {\n",
       "        vertical-align: middle;\n",
       "    }\n",
       "\n",
       "    .dataframe tbody tr th {\n",
       "        vertical-align: top;\n",
       "    }\n",
       "\n",
       "    .dataframe thead th {\n",
       "        text-align: right;\n",
       "    }\n",
       "</style>\n",
       "<table border=\"1\" class=\"dataframe\">\n",
       "  <thead>\n",
       "    <tr style=\"text-align: right;\">\n",
       "      <th></th>\n",
       "      <th>player_id</th>\n",
       "      <th>market_value_in_eur</th>\n",
       "      <th>height_in_cm</th>\n",
       "      <th>age</th>\n",
       "      <th>total_goals</th>\n",
       "      <th>total_assists</th>\n",
       "      <th>total_minutes_played</th>\n",
       "      <th>position_0</th>\n",
       "      <th>position_1</th>\n",
       "      <th>position_2</th>\n",
       "      <th>position_3</th>\n",
       "      <th>position_4</th>\n",
       "      <th>foot_0</th>\n",
       "      <th>foot_1</th>\n",
       "      <th>foot_2</th>\n",
       "      <th>foot_3</th>\n",
       "    </tr>\n",
       "  </thead>\n",
       "  <tbody>\n",
       "    <tr>\n",
       "      <th>0</th>\n",
       "      <td>10</td>\n",
       "      <td>1000000.0</td>\n",
       "      <td>184.0</td>\n",
       "      <td>38</td>\n",
       "      <td>48.0</td>\n",
       "      <td>25.0</td>\n",
       "      <td>8808.0</td>\n",
       "      <td>False</td>\n",
       "      <td>False</td>\n",
       "      <td>False</td>\n",
       "      <td>False</td>\n",
       "      <td>True</td>\n",
       "      <td>True</td>\n",
       "      <td>False</td>\n",
       "      <td>False</td>\n",
       "      <td>False</td>\n",
       "    </tr>\n",
       "    <tr>\n",
       "      <th>1</th>\n",
       "      <td>26</td>\n",
       "      <td>750000.0</td>\n",
       "      <td>190.0</td>\n",
       "      <td>38</td>\n",
       "      <td>0.0</td>\n",
       "      <td>0.0</td>\n",
       "      <td>13508.0</td>\n",
       "      <td>False</td>\n",
       "      <td>True</td>\n",
       "      <td>False</td>\n",
       "      <td>False</td>\n",
       "      <td>False</td>\n",
       "      <td>False</td>\n",
       "      <td>True</td>\n",
       "      <td>False</td>\n",
       "      <td>False</td>\n",
       "    </tr>\n",
       "    <tr>\n",
       "      <th>2</th>\n",
       "      <td>65</td>\n",
       "      <td>1000000.0</td>\n",
       "      <td>183.0</td>\n",
       "      <td>35</td>\n",
       "      <td>38.0</td>\n",
       "      <td>13.0</td>\n",
       "      <td>8788.0</td>\n",
       "      <td>False</td>\n",
       "      <td>False</td>\n",
       "      <td>False</td>\n",
       "      <td>False</td>\n",
       "      <td>True</td>\n",
       "      <td>False</td>\n",
       "      <td>False</td>\n",
       "      <td>False</td>\n",
       "      <td>True</td>\n",
       "    </tr>\n",
       "    <tr>\n",
       "      <th>3</th>\n",
       "      <td>77</td>\n",
       "      <td>200000.0</td>\n",
       "      <td>183.0</td>\n",
       "      <td>34</td>\n",
       "      <td>0.0</td>\n",
       "      <td>0.0</td>\n",
       "      <td>307.0</td>\n",
       "      <td>False</td>\n",
       "      <td>False</td>\n",
       "      <td>True</td>\n",
       "      <td>False</td>\n",
       "      <td>False</td>\n",
       "      <td>False</td>\n",
       "      <td>False</td>\n",
       "      <td>False</td>\n",
       "      <td>True</td>\n",
       "    </tr>\n",
       "    <tr>\n",
       "      <th>4</th>\n",
       "      <td>80</td>\n",
       "      <td>100000.0</td>\n",
       "      <td>194.0</td>\n",
       "      <td>36</td>\n",
       "      <td>0.0</td>\n",
       "      <td>0.0</td>\n",
       "      <td>1080.0</td>\n",
       "      <td>False</td>\n",
       "      <td>True</td>\n",
       "      <td>False</td>\n",
       "      <td>False</td>\n",
       "      <td>False</td>\n",
       "      <td>True</td>\n",
       "      <td>False</td>\n",
       "      <td>False</td>\n",
       "      <td>False</td>\n",
       "    </tr>\n",
       "  </tbody>\n",
       "</table>\n",
       "</div>"
      ],
      "text/plain": [
       "   player_id  market_value_in_eur  height_in_cm  age  total_goals  \\\n",
       "0         10            1000000.0         184.0   38         48.0   \n",
       "1         26             750000.0         190.0   38          0.0   \n",
       "2         65            1000000.0         183.0   35         38.0   \n",
       "3         77             200000.0         183.0   34          0.0   \n",
       "4         80             100000.0         194.0   36          0.0   \n",
       "\n",
       "   total_assists  total_minutes_played  position_0  position_1  position_2  \\\n",
       "0           25.0                8808.0       False       False       False   \n",
       "1            0.0               13508.0       False        True       False   \n",
       "2           13.0                8788.0       False       False       False   \n",
       "3            0.0                 307.0       False       False        True   \n",
       "4            0.0                1080.0       False        True       False   \n",
       "\n",
       "   position_3  position_4  foot_0  foot_1  foot_2  foot_3  \n",
       "0       False        True    True   False   False   False  \n",
       "1       False       False   False    True   False   False  \n",
       "2       False        True   False   False   False    True  \n",
       "3       False       False   False   False   False    True  \n",
       "4       False       False    True   False   False   False  "
      ]
     },
     "execution_count": 241,
     "metadata": {},
     "output_type": "execute_result"
    }
   ],
   "source": [
    "# Handle categorical variables using one-hot encoding\n",
    "df_processed = pd.get_dummies(df, columns=['position', 'foot'])\n",
    "\n",
    "# Display the first few rows of the processed dataframe\n",
    "df_processed.head()"
   ]
  },
  {
   "cell_type": "markdown",
   "metadata": {},
   "source": [
    "## 3. Define Features (X) and Target (y)"
   ]
  },
  {
   "cell_type": "code",
   "execution_count": 242,
   "metadata": {},
   "outputs": [],
   "source": [
    "X = df_processed.drop(['player_id', 'market_value_in_eur'], axis=1)\n",
    "y = df_processed['market_value_in_eur']"
   ]
  },
  {
   "cell_type": "code",
   "execution_count": 295,
   "metadata": {},
   "outputs": [
    {
     "name": "stdout",
     "output_type": "stream",
     "text": [
      "Highly correlated feature pairs (absolute value > 0.7):\n",
      "total_assists         total_goals             0.789484\n",
      "total_goals           total_assists           0.789484\n",
      "foot_1                foot_0                  0.770283\n",
      "foot_0                foot_1                  0.770283\n",
      "total_minutes_played  total_assists           0.706316\n",
      "total_assists         total_minutes_played    0.706316\n",
      "dtype: float64\n"
     ]
    }
   ],
   "source": [
    "# --- Check for Multicollinearity ---\n",
    "\n",
    " # Calculate the correlation matrix for your features\n",
    "correlation_matrix = X.corr().abs()\n",
    "    \n",
    " # Unstack the matrix to create a list of all pairs\n",
    "correlation_pairs = correlation_matrix.unstack()\n",
    "\n",
    " # Sort the pairs by their correlation value\n",
    "sorted_pairs = correlation_pairs.sort_values(kind=\"quicksort\", ascending=False)\n",
    "\n",
    " # Filter to find pairs with high correlation (e.g., > 0.7)\n",
    " # We also remove self-correlations (where the value is 1.0)\n",
    "highly_correlated = sorted_pairs[(sorted_pairs > 0.7) & (sorted_pairs < 1)]\n",
    "\n",
    "print(\"Highly correlated feature pairs (absolute value > 0.7):\")\n",
    "print(highly_correlated)"
   ]
  },
  {
   "cell_type": "code",
   "execution_count": null,
   "metadata": {},
   "outputs": [],
   "source": [
    "import numpy as np\n",
    "\n",
    "X.shape\n",
    "indices = np.arange(X.shape[0])\n",
    "np.random.shuffle(indices)\n",
    "\n",
    "# Step 2: Calculate split index (e.g., 80% train)\n",
    "\n",
    "split_ratio = 0.8\n",
    "split_index = int(len(indices) * split_ratio)\n",
    "\n",
    "# Step 3: Split indices into train and test\n",
    "train_indices = indices[:split_index]\n",
    "test_indices = indices[split_index:]\n",
    "\n",
    "# Step 4: Create train/test sets using the indices\n",
    "X_train = X.iloc[train_indices]\n",
    "y_train = y.iloc[train_indices]\n",
    "X_test = X.iloc[test_indices]\n",
    "y_test = y.iloc[test_indices]\n",
    "\n",
    "\n",
    "\n"
   ]
  },
  {
   "cell_type": "code",
   "execution_count": 273,
   "metadata": {},
   "outputs": [],
   "source": [
    "# Step 1: Combine X and y into one DataFrame\n",
    "data = X.copy()\n",
    "data['market_value_in_eur'] = y\n",
    "\n",
    "# Step 2: Shuffle the entire dataset\n",
    "data = data.sample(frac=1, random_state=42).reset_index(drop=True)\n",
    "\n",
    "# Step 3: Calculate the split index\n",
    "split_ratio = 0.8\n",
    "split_index = int(len(data) * split_ratio)\n",
    "\n",
    "# Step 4: Split into train and test sets\n",
    "train_data = data.iloc[:split_index]\n",
    "test_data = data.iloc[split_index:]\n",
    "\n",
    "# Step 5: Separate features and target again\n",
    "X_train = train_data.drop(columns='market_value_in_eur')\n",
    "y_train = train_data['market_value_in_eur']\n",
    "X_test = test_data.drop(columns='market_value_in_eur')\n",
    "y_test = test_data['market_value_in_eur']\n"
   ]
  },
  {
   "cell_type": "code",
   "execution_count": 274,
   "metadata": {},
   "outputs": [
    {
     "data": {
      "text/plain": [
       "(24862, 14)"
      ]
     },
     "execution_count": 274,
     "metadata": {},
     "output_type": "execute_result"
    }
   ],
   "source": [
    "X_train.shape"
   ]
  },
  {
   "cell_type": "code",
   "execution_count": 275,
   "metadata": {},
   "outputs": [],
   "source": [
    "# Add bias column to X_train\n",
    "X_train = pd.concat([pd.Series(1, index=X_train.index, name='bias'), X_train], axis=1)\n",
    "\n",
    "# Add bias column to X_test\n",
    "X_test = pd.concat([pd.Series(1, index=X_test.index, name='bias'), X_test], axis=1)\n"
   ]
  },
  {
   "cell_type": "code",
   "execution_count": 276,
   "metadata": {},
   "outputs": [
    {
     "data": {
      "text/plain": [
       "(24862, 15)"
      ]
     },
     "execution_count": 276,
     "metadata": {},
     "output_type": "execute_result"
    }
   ],
   "source": [
    "X_train.shape"
   ]
  },
  {
   "cell_type": "code",
   "execution_count": 277,
   "metadata": {},
   "outputs": [],
   "source": [
    "# Step 1: Exclude the bias column\n",
    "features = X_train.columns.difference(['bias'])\n",
    "\n",
    "# Step 2: Compute mean and std from X_train\n",
    "mean = X_train[features].mean()\n",
    "std = X_train[features].std()\n",
    "\n",
    "# Step 3: Standardize X_train and X_test using the same stats\n",
    "X_train[features] = (X_train[features] - mean) / std\n",
    "X_test[features] = (X_test[features] - mean) / std\n"
   ]
  },
  {
   "cell_type": "code",
   "execution_count": null,
   "metadata": {},
   "outputs": [],
   "source": [
    "# Apply log(1 + y) to smooth large outliers\n",
    "y_train_log = np.log1p(y_train)\n",
    "y_test_log = np.log1p(y_test)\n",
    "\n",
    "# Compute stats from training set only\n",
    "y_mean = y_train_log.mean()\n",
    "y_std = y_train_log.std()\n",
    "\n",
    "# Standardize\n",
    "y_train_scaled = (y_train_log - y_mean) / y_std\n",
    "y_test_scaled = (y_test_log - y_mean) / y_std\n",
    "\n",
    "# y_pred_original = np.expm1(y_pred_log)\n",
    "\n"
   ]
  },
  {
   "cell_type": "code",
   "execution_count": 280,
   "metadata": {},
   "outputs": [],
   "source": [
    "# Convert X_train to NumPy array\n",
    "X_mat = X_train.values\n",
    "\n",
    "# Ensure y is a column vector\n",
    "y_vec = y_train_scaled.values.reshape(-1, 1)\n",
    "\n",
    "# Compute normal equation\n",
    "XtX = X_mat.T @ X_mat\n",
    "XtX_inv = np.linalg.inv(XtX)\n",
    "XtY = X_mat.T @ y_vec\n",
    "w = XtX_inv @ XtY"
   ]
  },
  {
   "cell_type": "code",
   "execution_count": 284,
   "metadata": {},
   "outputs": [],
   "source": [
    "# Convert X_test to NumPy array\n",
    "X_test_mat = X_test.values\n",
    "\n",
    "# Predict (still in log + standardized space)\n",
    "y_pred_scaled = X_test_mat @ w  # Shape: (n_samples, 1)\n",
    "\n",
    "# Invert the scaling (standardization)\n",
    "y_pred_log = y_pred_scaled * y_std + y_mean\n",
    "\n",
    "# Invert the log-transform\n",
    "y_pred = np.expm1(y_pred_log)  # Final prediction in original scale\n",
    "\n",
    "# Flatten result to 1D if needed\n",
    "# y_pred = y_pred.flatten()\n",
    "\n",
    "\n"
   ]
  },
  {
   "cell_type": "code",
   "execution_count": 287,
   "metadata": {},
   "outputs": [
    {
     "name": "stdout",
     "output_type": "stream",
     "text": [
      "Mean Squared Error (MSE): 799,581,539,370,154.12\n",
      "Mean Absolute Error (MAE): 1,873,862.12\n"
     ]
    }
   ],
   "source": [
    "\n",
    "# Ensure y_pred and y_test are NumPy arrays\n",
    "y_true = y_test.values\n",
    "y_pred = y_pred.flatten()\n",
    "\n",
    "# Mean Squared Error\n",
    "mse = np.mean((y_true - y_pred) ** 2)\n",
    "\n",
    "# Mean Absolute Error\n",
    "mae = np.mean(np.abs(y_true - y_pred))\n",
    "\n",
    "print(f\"Mean Squared Error (MSE): {mse:,.2f}\")\n",
    "print(f\"Mean Absolute Error (MAE): {mae:,.2f}\")\n",
    "\n"
   ]
  },
  {
   "cell_type": "code",
   "execution_count": 288,
   "metadata": {},
   "outputs": [
    {
     "name": "stdout",
     "output_type": "stream",
     "text": [
      "      Actual      Predicted\n",
      "0   200000.0  254960.124993\n",
      "1   350000.0  335306.968615\n",
      "2   200000.0  392115.488250\n",
      "3    50000.0  315840.036370\n",
      "4   400000.0  349468.557173\n",
      "5   250000.0  360338.983440\n",
      "6  1500000.0  336150.755593\n",
      "7   450000.0  296866.971453\n",
      "8    50000.0  173602.082074\n",
      "9   200000.0  350499.138013\n"
     ]
    }
   ],
   "source": [
    "import pandas as pd\n",
    "\n",
    "results = pd.DataFrame({\n",
    "    'Actual': y_true,\n",
    "    'Predicted': y_pred\n",
    "})\n",
    "\n",
    "print(results.head(10))"
   ]
  },
  {
   "cell_type": "code",
   "execution_count": null,
   "metadata": {},
   "outputs": [
    {
     "data": {
      "image/png": "[encoded data removed]",
      "text/plain": [
       "<Figure size 800x600 with 1 Axes>"
      ]
     },
     "metadata": {},
     "output_type": "display_data"
    }
   ],
   "source": [
    "import matplotlib.pyplot as plt\n",
    "\n",
    "plt.figure(figsize=(8, 6))\n",
    "plt.scatter(y_true, y_pred, alpha=0.5)\n",
    "plt.plot([y_true.min(), y_true.max()], [y_true.min(), y_true.max()], 'r--')  # ideal line\n",
    "plt.xlabel(\"Actual Market Value (EUR)\")\n",
    "plt.ylabel(\"Predicted Market Value (EUR)\")\n",
    "plt.title(\"Actual vs. Predicted Market Values\")\n",
    "plt.grid(True)\n",
    "plt.show()\n"
   ]
  }
 ],
 "metadata": {
  "kernelspec": {
   "display_name": "venv",
   "language": "python",
   "name": "python3"
  },
  "language_info": {
   "codemirror_mode": {
    "name": "ipython",
    "version": 3
   },
   "file_extension": ".py",
   "mimetype": "text/x-python",
   "name": "python",
   "nbconvert_exporter": "python",
   "pygments_lexer": "ipython3",
   "version": "3.10.12"
  }
 },
 "nbformat": 4,
 "nbformat_minor": 2
}
